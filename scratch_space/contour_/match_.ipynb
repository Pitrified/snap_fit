{
 "cells": [
  {
   "cell_type": "markdown",
   "metadata": {},
   "source": [
    "# Match contours\n"
   ]
  },
  {
   "cell_type": "markdown",
   "metadata": {},
   "source": [
    "## Setup\n"
   ]
  },
  {
   "cell_type": "code",
   "execution_count": null,
   "metadata": {},
   "outputs": [],
   "source": [
    "%load_ext autoreload\n",
    "%autoreload 2"
   ]
  },
  {
   "cell_type": "code",
   "execution_count": null,
   "metadata": {},
   "outputs": [],
   "source": [
    "from loguru import logger as lg\n",
    "\n",
    "from snap_fit.config.snap_fit_config import get_snap_fit_paths\n",
    "from snap_fit.config.types import EDGE_ENDS_TO_CORNER, EDGE_POSS, EdgePos\n",
    "from snap_fit.image.process import find_contours, find_corners\n",
    "from snap_fit.image.utils import draw_contour, draw_corners, show_image_mpl\n",
    "from snap_fit.puzzle.sheet import Sheet"
   ]
  },
  {
   "cell_type": "code",
   "execution_count": null,
   "metadata": {},
   "outputs": [],
   "source": [
    "sf_paths = get_snap_fit_paths()\n",
    "sample_fol = sf_paths.sample_img_fol"
   ]
  },
  {
   "cell_type": "code",
   "execution_count": null,
   "metadata": {},
   "outputs": [],
   "source": [
    "img_fn = \"back_03.jpg\"\n",
    "# img_fn = \"back_04.jpg\"\n",
    "img_fp = sample_fol / img_fn\n",
    "img_fp"
   ]
  },
  {
   "cell_type": "code",
   "execution_count": null,
   "metadata": {},
   "outputs": [],
   "source": [
    "sheet = Sheet(img_fp)\n",
    "lg.info(f\"found {len(sheet.pieces)} pieces\")"
   ]
  },
  {
   "cell_type": "code",
   "execution_count": null,
   "metadata": {},
   "outputs": [],
   "source": [
    "show_image_mpl(sheet.img_orig)"
   ]
  },
  {
   "cell_type": "code",
   "execution_count": null,
   "metadata": {},
   "outputs": [],
   "source": [
    "piece = sheet.pieces[5]"
   ]
  },
  {
   "cell_type": "code",
   "execution_count": null,
   "metadata": {},
   "outputs": [],
   "source": [
    "img_contour = draw_contour(piece.img_bw, piece.contour_loc, color=127)\n",
    "img_corners = draw_corners(img_contour, piece.corners.values(), color=190)\n",
    "show_image_mpl(img_corners)"
   ]
  },
  {
   "cell_type": "code",
   "execution_count": null,
   "metadata": {},
   "outputs": [],
   "source": [
    "piece.corners"
   ]
  },
  {
   "cell_type": "markdown",
   "metadata": {},
   "source": [
    "## Split contour\n"
   ]
  },
  {
   "cell_type": "markdown",
   "metadata": {},
   "source": [
    "### Find the corners in the contour\n"
   ]
  },
  {
   "cell_type": "code",
   "execution_count": null,
   "metadata": {},
   "outputs": [],
   "source": [
    "# # contours are x, y\n",
    "# con = piece.contour_loc\n",
    "# lg.debug(f\"contour shape: {con.shape}\")\n",
    "# lg.debug(f\"first point: {con[0][0]}\")"
   ]
  },
  {
   "cell_type": "code",
   "execution_count": null,
   "metadata": {},
   "outputs": [],
   "source": [
    "# # subtract the corner we want to match from the contour\n",
    "# corner = piece.corners[\"top_left\"]\n",
    "# con_diff = con - corner\n",
    "# lg.debug(f\"corner: {corner}\")\n",
    "# lg.debug(f\"first point diff: {con_diff[0][0]}\")"
   ]
  },
  {
   "cell_type": "code",
   "execution_count": null,
   "metadata": {},
   "outputs": [],
   "source": [
    "# # find the index of the corner in the contour\n",
    "# # which is the point with the smallest manhattan distance to the corner\n",
    "# corner_idx = abs(con_diff).sum(axis=1).sum(axis=1).argmin()\n",
    "# lg.debug(f\"corner index: {corner_idx}\")\n",
    "# lg.debug(f\"corner point: {con[corner_idx][0]}\")\n",
    "# lg.debug(f\"corner point diff: {con_diff[corner_idx][0]}\")"
   ]
  },
  {
   "cell_type": "code",
   "execution_count": null,
   "metadata": {},
   "outputs": [],
   "source": [
    "for corner_name, corner in piece.corners.items():\n",
    "    corner_coords = piece.corners[corner_name]\n",
    "    cont_corner_idxs = piece.contour.corner_idxs[corner_name]\n",
    "    cont_corner_coords = piece.contour.corner_coords[corner_name]\n",
    "    lg.debug(\n",
    "        f\"{corner_name}: {corner_coords} -> {cont_corner_idxs} -> {cont_corner_coords}\"\n",
    "    )"
   ]
  },
  {
   "cell_type": "markdown",
   "metadata": {},
   "source": [
    "### Split the contour in four segments\n"
   ]
  },
  {
   "cell_type": "code",
   "execution_count": null,
   "metadata": {},
   "outputs": [],
   "source": [
    "# piece.split_contour()"
   ]
  },
  {
   "cell_type": "code",
   "execution_count": null,
   "metadata": {},
   "outputs": [],
   "source": [
    "for edge_name, edge_ends in EDGE_ENDS_TO_CORNER.items():\n",
    "    start_idx = piece.contour.corner_idxs[edge_ends[0]]\n",
    "    end_idx = piece.contour.corner_idxs[edge_ends[1]]\n",
    "    ends_coords = piece.contour.segments[edge_name].coords\n",
    "    lg.debug(f\"{edge_name}: {start_idx} -> {end_idx} ({ends_coords})\")"
   ]
  },
  {
   "cell_type": "code",
   "execution_count": null,
   "metadata": {},
   "outputs": [],
   "source": [
    "tot_len = 0\n",
    "for edge_name, edge_ends in EDGE_ENDS_TO_CORNER.items():\n",
    "    segment = piece.contour.segments[edge_name]\n",
    "    points = segment.points\n",
    "    lg.debug(f\"{edge_name}: {len(points)}\")\n",
    "    tot_len += len(points)\n",
    "lg.debug(f\"total length: {tot_len}\")\n",
    "lg.debug(f\"total contour length: {len(piece.contour_loc)}\")"
   ]
  },
  {
   "cell_type": "code",
   "execution_count": null,
   "metadata": {},
   "outputs": [],
   "source": [
    "img_contour_seg = piece.img_bw.copy() // 10\n",
    "for ei, edge_name in enumerate(EDGE_POSS):\n",
    "    segment = piece.contour.segments[edge_name]\n",
    "    points = segment.points\n",
    "    img_contour_seg = draw_contour(img_contour_seg, points, color=120 + ei * 40)\n",
    "show_image_mpl(img_contour_seg)"
   ]
  },
  {
   "cell_type": "markdown",
   "metadata": {},
   "source": [
    "## Match segments\n"
   ]
  },
  {
   "cell_type": "markdown",
   "metadata": {},
   "source": [
    "### Translate the segments\n"
   ]
  },
  {
   "cell_type": "code",
   "execution_count": null,
   "metadata": {},
   "outputs": [],
   "source": [
    "# 4\n",
    "p1 = sheet.pieces[3]\n",
    "p2 = sheet.pieces[4]\n",
    "\n",
    "img_contour_seg = p1.img_bw.copy() // 10\n",
    "for ei, edge_name in enumerate(EDGE_POSS):\n",
    "    segment = p1.contour.segments[edge_name]\n",
    "    points = segment.points\n",
    "    img_contour_seg = draw_contour(img_contour_seg, points, color=120 + ei * 40)\n",
    "show_image_mpl(img_contour_seg, figsize=(5, 5))\n",
    "\n",
    "img_contour_seg = p2.img_bw.copy() // 10\n",
    "for ei, edge_name in enumerate(EDGE_POSS):\n",
    "    segment = p2.contour.segments[edge_name]\n",
    "    points = segment.points\n",
    "    img_contour_seg = draw_contour(img_contour_seg, points, color=120 + ei * 40)\n",
    "show_image_mpl(img_contour_seg, figsize=(5, 5))"
   ]
  },
  {
   "cell_type": "code",
   "execution_count": null,
   "metadata": {},
   "outputs": [],
   "source": [
    "s1_type = EdgePos.RIGHT\n",
    "s2_type = EdgePos.TOP\n",
    "s1 = p1.contour.segments[s1_type].points\n",
    "s2 = p2.contour.segments[s2_type].points"
   ]
  },
  {
   "cell_type": "code",
   "execution_count": null,
   "metadata": {},
   "outputs": [],
   "source": [
    "s1.shape"
   ]
  },
  {
   "cell_type": "code",
   "execution_count": null,
   "metadata": {},
   "outputs": [],
   "source": [
    "source = p1.contour.segments[s1_type].coords\n",
    "lg.debug(f\"{source}\")\n",
    "target_orig = p2.contour.segments[s2_type].coords\n",
    "lg.debug(f\"{target_orig}\")\n",
    "# target = target_orig[::-1]\n",
    "# lg.debug(f\"{target}\")\n",
    "target = p2.contour.segments[s2_type].swap_coords\n",
    "lg.debug(f\"{target}\")"
   ]
  },
  {
   "cell_type": "code",
   "execution_count": null,
   "metadata": {},
   "outputs": [],
   "source": [
    "import cv2\n",
    "\n",
    "\n",
    "# Reshape to (N, 1, 2) as required by estimateAffinePartial2D\n",
    "source = source.reshape(-1, 1, 2)\n",
    "target = target.reshape(-1, 1, 2)\n",
    "\n",
    "# Estimate the affine transformation matrix\n",
    "transform_matrix, _ = cv2.estimateAffinePartial2D(source, target)\n",
    "\n",
    "print(\"Estimated Affine Transformation Matrix:\")\n",
    "print(transform_matrix)"
   ]
  },
  {
   "cell_type": "code",
   "execution_count": null,
   "metadata": {},
   "outputs": [],
   "source": [
    "import cv2\n",
    "import numpy as np\n",
    "\n",
    "\n",
    "def transform_contour(contour, transform_matrix):\n",
    "    \"\"\"Applies a 2D affine transformation to a contour.\n",
    "\n",
    "    Parameters:\n",
    "        contour (np.ndarray): Contour with shape (n, 1, 2).\n",
    "        transform_matrix (np.ndarray): Transformation matrix (2x3) from cv2.estimateAffinePartial2D or similar.\n",
    "\n",
    "    Returns:\n",
    "        np.ndarray: Transformed contour with the same shape as the input.\n",
    "    \"\"\"\n",
    "    # Validate input shape\n",
    "    if contour.shape[1:] != (1, 2):\n",
    "        raise ValueError(\"Contour must have shape (n, 1, 2)\")\n",
    "\n",
    "    # Apply the transformation\n",
    "    transformed_contour = cv2.transform(contour, transform_matrix)\n",
    "\n",
    "    return transformed_contour"
   ]
  },
  {
   "cell_type": "code",
   "execution_count": null,
   "metadata": {},
   "outputs": [],
   "source": [
    "s1_transformed = transform_contour(s1, transform_matrix)\n",
    "lg.debug(f\"{s1.shape} {s1_transformed.shape}\")\n",
    "s1_transformed[0][0]"
   ]
  },
  {
   "cell_type": "code",
   "execution_count": null,
   "metadata": {},
   "outputs": [],
   "source": [
    "img_contour_seg = p2.img_bw.copy() // 10\n",
    "img_contour_seg = draw_contour(img_contour_seg, s1, color=120)\n",
    "img_contour_seg = draw_contour(img_contour_seg, s2, color=180)\n",
    "img_contour_seg = draw_contour(img_contour_seg, s1_transformed, color=220)\n",
    "show_image_mpl(img_contour_seg, figsize=(5, 5))"
   ]
  },
  {
   "cell_type": "markdown",
   "metadata": {},
   "source": [
    "### Match the segments\n"
   ]
  },
  {
   "cell_type": "code",
   "execution_count": null,
   "metadata": {},
   "outputs": [],
   "source": [
    "s1_transformed.shape"
   ]
  },
  {
   "cell_type": "code",
   "execution_count": null,
   "metadata": {},
   "outputs": [],
   "source": [
    "s1_transformed[:, 0][0]"
   ]
  },
  {
   "cell_type": "code",
   "execution_count": null,
   "metadata": {},
   "outputs": [],
   "source": [
    "s2[:, 0][-1]"
   ]
  },
  {
   "cell_type": "code",
   "execution_count": null,
   "metadata": {},
   "outputs": [],
   "source": [
    "len(s1_transformed[:, 0])"
   ]
  },
  {
   "cell_type": "code",
   "execution_count": null,
   "metadata": {},
   "outputs": [],
   "source": [
    "s1_len = s1_transformed.shape[0]\n",
    "s2_len = s2.shape[0]\n",
    "lg.debug(f\"{s1_len} {s2_len}\")"
   ]
  },
  {
   "cell_type": "code",
   "execution_count": null,
   "metadata": {},
   "outputs": [],
   "source": [
    "rate = s1_len / s2_len\n",
    "rate"
   ]
  },
  {
   "cell_type": "code",
   "execution_count": null,
   "metadata": {},
   "outputs": [],
   "source": [
    "from math import floor\n",
    "\n",
    "\n",
    "tot_dist = 0\n",
    "for i1 in range(s1_len):\n",
    "    i2 = floor(rate * i1)\n",
    "    p1 = s1_transformed[:, 0][i1]\n",
    "    p2 = s2[:, 0][i2]\n",
    "    dist = np.linalg.norm(p1 - p2)\n",
    "    tot_dist += dist\n",
    "\n",
    "tot_dist"
   ]
  },
  {
   "cell_type": "code",
   "execution_count": null,
   "metadata": {},
   "outputs": [],
   "source": [
    "# should we rescale the dist on the distance between the ends?\n",
    "# should we take the average of the distances between the points?"
   ]
  }
 ],
 "metadata": {
  "kernelspec": {
   "display_name": "snap-fit-RMFRmbgu-py3.11",
   "language": "python",
   "name": "python3"
  },
  "language_info": {
   "codemirror_mode": {
    "name": "ipython",
    "version": 3
   },
   "file_extension": ".py",
   "mimetype": "text/x-python",
   "name": "python",
   "nbconvert_exporter": "python",
   "pygments_lexer": "ipython3",
   "version": "3.11.10"
  }
 },
 "nbformat": 4,
 "nbformat_minor": 2
}
