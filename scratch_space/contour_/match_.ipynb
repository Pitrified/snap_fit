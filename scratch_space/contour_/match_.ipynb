{
 "cells": [
  {
   "cell_type": "markdown",
   "metadata": {},
   "source": [
    "# Match contours\n"
   ]
  },
  {
   "cell_type": "markdown",
   "metadata": {},
   "source": [
    "## Setup\n"
   ]
  },
  {
   "cell_type": "code",
   "execution_count": null,
   "metadata": {},
   "outputs": [],
   "source": [
    "%load_ext autoreload\n",
    "%autoreload 2"
   ]
  },
  {
   "cell_type": "code",
   "execution_count": null,
   "metadata": {},
   "outputs": [],
   "source": [
    "from snap_fit.config.snap_fit_config import get_snap_fit_paths\n",
    "from snap_fit.image.process import (\n",
    "    find_contours,\n",
    "    find_corners,\n",
    "    find_sift_keypoints,\n",
    "    find_white_regions,\n",
    ")\n",
    "from snap_fit.image.utils import (\n",
    "    cut_rect_from_image,\n",
    "    display_image,\n",
    "    draw_contour,\n",
    "    draw_contours,\n",
    "    draw_corners,\n",
    "    draw_keypoints,\n",
    "    draw_regions,\n",
    "    flip_colors_bw,\n",
    "    load_image,\n",
    "    pad_rect,\n",
    "    save_image,\n",
    "    show_image_mpl,\n",
    "    sort_rects,\n",
    "    translate_contour,\n",
    ")\n",
    "from snap_fit.puzzle.sheet import Sheet"
   ]
  },
  {
   "cell_type": "code",
   "execution_count": null,
   "metadata": {},
   "outputs": [],
   "source": [
    "sf_paths = get_snap_fit_paths()\n",
    "data_fol = sf_paths.data_fol\n",
    "sample_fol = data_fol / \"sample\""
   ]
  },
  {
   "cell_type": "code",
   "execution_count": null,
   "metadata": {},
   "outputs": [],
   "source": [
    "# img_fn = \"PXL_20241130_105107220.jpg\"\n",
    "# img_fn = \"front_01.jpg\"\n",
    "# img_fn = \"back_proc_02.jpg\"\n",
    "img_fn = \"back_03.jpg\"\n",
    "# img_fn = \"back_04.jpg\"\n",
    "# img_fn = \"puzzle_pieces_01.jpeg\"\n",
    "img_fp = sample_fol / img_fn\n",
    "img_fp"
   ]
  },
  {
   "cell_type": "code",
   "execution_count": null,
   "metadata": {},
   "outputs": [],
   "source": [
    "sheet = Sheet(img_fp)"
   ]
  },
  {
   "cell_type": "code",
   "execution_count": null,
   "metadata": {},
   "outputs": [],
   "source": [
    "show_image_mpl(sheet.img_orig)"
   ]
  },
  {
   "cell_type": "code",
   "execution_count": null,
   "metadata": {},
   "outputs": [],
   "source": [
    "piece = sheet.pieces[5]"
   ]
  },
  {
   "cell_type": "code",
   "execution_count": null,
   "metadata": {},
   "outputs": [],
   "source": [
    "img_contour = draw_contour(piece.img_bw, piece.contour_loc, color=127)\n",
    "img_corners = draw_corners(img_contour, piece.corners.values(), color=190)\n",
    "show_image_mpl(img_corners)"
   ]
  }
 ],
 "metadata": {
  "kernelspec": {
   "display_name": "snap-fit-RMFRmbgu-py3.11",
   "language": "python",
   "name": "python3"
  },
  "language_info": {
   "codemirror_mode": {
    "name": "ipython",
    "version": 3
   },
   "file_extension": ".py",
   "mimetype": "text/x-python",
   "name": "python",
   "nbconvert_exporter": "python",
   "pygments_lexer": "ipython3",
   "version": "3.11.10"
  }
 },
 "nbformat": 4,
 "nbformat_minor": 2
}
