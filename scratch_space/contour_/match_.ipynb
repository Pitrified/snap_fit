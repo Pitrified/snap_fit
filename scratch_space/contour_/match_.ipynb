{
 "cells": [
  {
   "cell_type": "markdown",
   "metadata": {},
   "source": [
    "# Match contours\n"
   ]
  },
  {
   "cell_type": "markdown",
   "metadata": {},
   "source": [
    "## Setup\n"
   ]
  },
  {
   "cell_type": "code",
   "execution_count": null,
   "metadata": {},
   "outputs": [],
   "source": [
    "%load_ext autoreload\n",
    "%autoreload 2"
   ]
  },
  {
   "cell_type": "code",
   "execution_count": null,
   "metadata": {},
   "outputs": [],
   "source": [
    "from loguru import logger as lg\n",
    "\n",
    "from snap_fit.config.snap_fit_config import get_snap_fit_paths\n",
    "from snap_fit.config.types import EDGE_ENDS_TO_CORNER, EDGE_POSS\n",
    "from snap_fit.image.process import find_contours, find_corners\n",
    "from snap_fit.image.utils import draw_contour, draw_corners, show_image_mpl\n",
    "from snap_fit.puzzle.sheet import Sheet"
   ]
  },
  {
   "cell_type": "code",
   "execution_count": null,
   "metadata": {},
   "outputs": [],
   "source": [
    "sf_paths = get_snap_fit_paths()\n",
    "data_fol = sf_paths.data_fol\n",
    "sample_fol = data_fol / \"sample\""
   ]
  },
  {
   "cell_type": "code",
   "execution_count": null,
   "metadata": {},
   "outputs": [],
   "source": [
    "img_fn = \"back_03.jpg\"\n",
    "# img_fn = \"back_04.jpg\"\n",
    "img_fp = sample_fol / img_fn\n",
    "img_fp"
   ]
  },
  {
   "cell_type": "code",
   "execution_count": null,
   "metadata": {},
   "outputs": [],
   "source": [
    "sheet = Sheet(img_fp)\n",
    "lg.info(f\"found {len(sheet.pieces)} pieces\")"
   ]
  },
  {
   "cell_type": "code",
   "execution_count": null,
   "metadata": {},
   "outputs": [],
   "source": [
    "show_image_mpl(sheet.img_orig)"
   ]
  },
  {
   "cell_type": "code",
   "execution_count": null,
   "metadata": {},
   "outputs": [],
   "source": [
    "piece = sheet.pieces[5]"
   ]
  },
  {
   "cell_type": "code",
   "execution_count": null,
   "metadata": {},
   "outputs": [],
   "source": [
    "img_contour = draw_contour(piece.img_bw, piece.contour_loc, color=127)\n",
    "img_corners = draw_corners(img_contour, piece.corners.values(), color=190)\n",
    "show_image_mpl(img_corners)"
   ]
  },
  {
   "cell_type": "code",
   "execution_count": null,
   "metadata": {},
   "outputs": [],
   "source": [
    "piece.corners"
   ]
  },
  {
   "cell_type": "markdown",
   "metadata": {},
   "source": [
    "## Split contour\n"
   ]
  },
  {
   "cell_type": "markdown",
   "metadata": {},
   "source": [
    "### Find the corners in the contour\n"
   ]
  },
  {
   "cell_type": "code",
   "execution_count": null,
   "metadata": {},
   "outputs": [],
   "source": [
    "# # contours are x, y\n",
    "# con = piece.contour_loc\n",
    "# lg.debug(f\"contour shape: {con.shape}\")\n",
    "# lg.debug(f\"first point: {con[0][0]}\")"
   ]
  },
  {
   "cell_type": "code",
   "execution_count": null,
   "metadata": {},
   "outputs": [],
   "source": [
    "# # subtract the corner we want to match from the contour\n",
    "# corner = piece.corners[\"top_left\"]\n",
    "# con_diff = con - corner\n",
    "# lg.debug(f\"corner: {corner}\")\n",
    "# lg.debug(f\"first point diff: {con_diff[0][0]}\")"
   ]
  },
  {
   "cell_type": "code",
   "execution_count": null,
   "metadata": {},
   "outputs": [],
   "source": [
    "# # find the index of the corner in the contour\n",
    "# # which is the point with the smallest manhattan distance to the corner\n",
    "# corner_idx = abs(con_diff).sum(axis=1).sum(axis=1).argmin()\n",
    "# lg.debug(f\"corner index: {corner_idx}\")\n",
    "# lg.debug(f\"corner point: {con[corner_idx][0]}\")\n",
    "# lg.debug(f\"corner point diff: {con_diff[corner_idx][0]}\")"
   ]
  },
  {
   "cell_type": "code",
   "execution_count": null,
   "metadata": {},
   "outputs": [],
   "source": [
    "for corner_name, corner in piece.corners.items():\n",
    "    corner_coords = piece.corners[corner_name]\n",
    "    cont_corner_idxs = piece.contour_corner_idxs[corner_name]\n",
    "    cont_corner_coords = piece.contour_corner_coords[corner_name]\n",
    "    lg.debug(\n",
    "        f\"{corner_name}: {corner_coords} -> {cont_corner_idxs} -> {cont_corner_coords}\"\n",
    "    )"
   ]
  },
  {
   "cell_type": "markdown",
   "metadata": {},
   "source": [
    "### Split the contour in four segments\n"
   ]
  },
  {
   "cell_type": "code",
   "execution_count": null,
   "metadata": {},
   "outputs": [],
   "source": [
    "piece.split_contour()"
   ]
  },
  {
   "cell_type": "code",
   "execution_count": null,
   "metadata": {},
   "outputs": [],
   "source": [
    "for edge_name, edge_ends in EDGE_ENDS_TO_CORNER.items():\n",
    "    start_idx = piece.contour_corner_idxs[edge_ends[0]]\n",
    "    end_idx = piece.contour_corner_idxs[edge_ends[1]]\n",
    "    ends_coords = piece.contour_segments_ends_coords[edge_name]\n",
    "    lg.debug(f\"{edge_name}: {start_idx} -> {end_idx} ({ends_coords})\")"
   ]
  },
  {
   "cell_type": "code",
   "execution_count": null,
   "metadata": {},
   "outputs": [],
   "source": [
    "tot_len = 0\n",
    "for edge_name, edge_ends in EDGE_ENDS_TO_CORNER.items():\n",
    "    segment = piece.contour_segments[edge_name]\n",
    "    lg.debug(f\"{edge_name}: {len(segment)}\")\n",
    "    tot_len += len(segment)\n",
    "lg.debug(f\"total length: {tot_len}\")\n",
    "lg.debug(f\"total contour length: {len(piece.contour_loc)}\")"
   ]
  }
 ],
 "metadata": {
  "kernelspec": {
   "display_name": "snap-fit-RMFRmbgu-py3.11",
   "language": "python",
   "name": "python3"
  },
  "language_info": {
   "codemirror_mode": {
    "name": "ipython",
    "version": 3
   },
   "file_extension": ".py",
   "mimetype": "text/x-python",
   "name": "python",
   "nbconvert_exporter": "python",
   "pygments_lexer": "ipython3",
   "version": "3.11.10"
  }
 },
 "nbformat": 4,
 "nbformat_minor": 2
}
