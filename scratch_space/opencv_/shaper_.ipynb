{
 "cells": [
  {
   "cell_type": "markdown",
   "metadata": {},
   "source": [
    "# understand opencv indexing\n"
   ]
  },
  {
   "cell_type": "code",
   "execution_count": null,
   "metadata": {},
   "outputs": [],
   "source": [
    "%load_ext autoreload\n",
    "%autoreload 2"
   ]
  },
  {
   "cell_type": "code",
   "execution_count": null,
   "metadata": {},
   "outputs": [],
   "source": [
    "import numpy as np\n",
    "import cv2"
   ]
  },
  {
   "cell_type": "code",
   "execution_count": null,
   "metadata": {},
   "outputs": [],
   "source": [
    "from snap_fit.config.snap_fit_config import get_snap_fit_paths\n",
    "from snap_fit.image.process import (\n",
    "    find_contours,\n",
    "    find_corners,\n",
    "    find_sift_keypoints,\n",
    "    find_white_regions,\n",
    ")\n",
    "from snap_fit.image.utils import (\n",
    "    cut_rect_from_image,\n",
    "    display_image,\n",
    "    draw_contour,\n",
    "    draw_contours,\n",
    "    draw_corners,\n",
    "    draw_keypoints,\n",
    "    draw_regions,\n",
    "    flip_colors_bw,\n",
    "    load_image,\n",
    "    pad_rect,\n",
    "    save_image,\n",
    "    show_image_mpl,\n",
    "    sort_rects,\n",
    "    translate_contour,\n",
    ")\n",
    "from snap_fit.puzzle.sheet import Sheet"
   ]
  },
  {
   "cell_type": "code",
   "execution_count": null,
   "metadata": {},
   "outputs": [],
   "source": [
    "sf_paths = get_snap_fit_paths()\n",
    "data_fol = sf_paths.data_fol\n",
    "sample_fol = data_fol / \"sample\""
   ]
  },
  {
   "cell_type": "code",
   "execution_count": null,
   "metadata": {},
   "outputs": [],
   "source": [
    "# img_fn = \"PXL_20241130_105107220.jpg\"\n",
    "# img_fn = \"front_01.jpg\"\n",
    "# img_fn = \"back_proc_02.jpg\"\n",
    "img_fn = \"back_03.jpg\"\n",
    "# img_fn = \"back_04.jpg\"\n",
    "# img_fn = \"puzzle_pieces_01.jpeg\"\n",
    "img_fp = sample_fol / img_fn\n",
    "img_fp"
   ]
  },
  {
   "cell_type": "code",
   "execution_count": null,
   "metadata": {},
   "outputs": [],
   "source": [
    "sheet = Sheet(img_fp)"
   ]
  },
  {
   "cell_type": "code",
   "execution_count": null,
   "metadata": {},
   "outputs": [],
   "source": [
    "show_image_mpl(sheet.img_orig)"
   ]
  },
  {
   "cell_type": "code",
   "execution_count": null,
   "metadata": {},
   "outputs": [],
   "source": [
    "shap = sheet.img_orig.shape\n",
    "shap"
   ]
  },
  {
   "cell_type": "code",
   "execution_count": null,
   "metadata": {},
   "outputs": [],
   "source": [
    "green = (0, 255, 0)[::-1]\n",
    "red = (255, 0, 0)[::-1]  # in RGB, but in OpenCV it is BGR\n",
    "blue = (0, 0, 255)[::-1]\n",
    "mag = (255, 0, 255)[::-1]\n",
    "cyan = (0, 255, 255)[::-1]\n",
    "yellow = (255, 255, 0)[::-1]\n",
    "\n",
    "corners = [(50, 100)]\n",
    "img_corners = draw_corners(\n",
    "    sheet.img_orig,\n",
    "    corners,\n",
    "    color=green,\n",
    "    radius=30,\n",
    ")\n",
    "\n",
    "corners = [(50, 2000), (50, shap[0] - 50)]\n",
    "img_corners = draw_corners(\n",
    "    img_corners,\n",
    "    corners,\n",
    "    color=red,\n",
    "    radius=30,\n",
    ")\n",
    "\n",
    "corners = [(2000, 100), (shap[1] - 50, 50)]\n",
    "img_corners = draw_corners(\n",
    "    img_corners,\n",
    "    corners,\n",
    "    color=blue,\n",
    "    radius=30,\n",
    ")\n",
    "\n",
    "corners = [(2000, 2000), (shap[1] - 50, shap[0] - 50)]\n",
    "img_corners = draw_corners(\n",
    "    img_corners,\n",
    "    corners,\n",
    "    color=mag,\n",
    "    radius=30,\n",
    ")\n",
    "\n",
    "show_image_mpl(img_corners)"
   ]
  },
  {
   "cell_type": "markdown",
   "metadata": {},
   "source": [
    "circle uses x, y coordinates\n",
    "not row, column\n",
    "opencv shape is (height, width)\n"
   ]
  },
  {
   "cell_type": "code",
   "execution_count": null,
   "metadata": {},
   "outputs": [],
   "source": [
    "def erase_region(img: np.ndarray, c1: int, c2: int) -> np.ndarray:\n",
    "    img[c1 : c1 + 50, c2 : c2 + 50] = (255, 255, 255)\n",
    "    return img\n",
    "\n",
    "\n",
    "img_regions = erase_region(img_corners.copy(), 50, 100)\n",
    "img_regions = erase_region(img_regions, 100, 2000)\n",
    "\n",
    "cv2.circle(img_regions, (100, 200), 30, yellow, -1)\n",
    "cv2.circle(img_regions, (100, 2000), 30, yellow, -1)\n",
    "show_image_mpl(img_regions)"
   ]
  }
 ],
 "metadata": {
  "kernelspec": {
   "display_name": "snap-fit-RMFRmbgu-py3.11",
   "language": "python",
   "name": "python3"
  },
  "language_info": {
   "codemirror_mode": {
    "name": "ipython",
    "version": 3
   },
   "file_extension": ".py",
   "mimetype": "text/x-python",
   "name": "python",
   "nbconvert_exporter": "python",
   "pygments_lexer": "ipython3",
   "version": "3.11.10"
  }
 },
 "nbformat": 4,
 "nbformat_minor": 2
}
