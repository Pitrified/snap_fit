{
 "cells": [
  {
   "cell_type": "markdown",
   "metadata": {},
   "source": [
    "# From photo to piece\n"
   ]
  },
  {
   "cell_type": "code",
   "execution_count": null,
   "metadata": {},
   "outputs": [],
   "source": [
    "%load_ext autoreload\n",
    "%autoreload 2"
   ]
  },
  {
   "cell_type": "code",
   "execution_count": null,
   "metadata": {},
   "outputs": [],
   "source": [
    "from snap_fit.config.snap_fit_config import get_snap_fit_paths\n",
    "from snap_fit.image.process import find_contours, find_white_regions\n",
    "from snap_fit.image.utils import (\n",
    "    cut_rect_from_image,\n",
    "    display_image,\n",
    "    draw_regions,\n",
    "    flip_colors_bw,\n",
    "    load_image,\n",
    "    pad_rect,\n",
    "    save_image,\n",
    "    show_image_mpl,\n",
    "    sort_rects,\n",
    ")\n",
    "from snap_fit.puzzle.sheet import Sheet"
   ]
  },
  {
   "cell_type": "code",
   "execution_count": null,
   "metadata": {},
   "outputs": [],
   "source": [
    "sf_paths = get_snap_fit_paths()\n",
    "data_fol = sf_paths.data_fol\n",
    "sample_fol = data_fol / \"sample\""
   ]
  },
  {
   "cell_type": "code",
   "execution_count": null,
   "metadata": {},
   "outputs": [],
   "source": [
    "# img_fn = \"PXL_20241130_105107220.jpg\"\n",
    "# img_fn = \"front_01.jpg\"\n",
    "# img_fn = \"back_proc_02.jpg\"\n",
    "img_fn = \"back_02.jpg\"\n",
    "# img_fn = \"puzzle_pieces_01.jpeg\"\n",
    "img_fp = sample_fol / img_fn\n",
    "img_fp"
   ]
  },
  {
   "cell_type": "code",
   "execution_count": null,
   "metadata": {},
   "outputs": [],
   "source": [
    "sheet = Sheet(img_fp)"
   ]
  },
  {
   "cell_type": "code",
   "execution_count": null,
   "metadata": {},
   "outputs": [],
   "source": [
    "show_image_mpl(sheet.img_orig)"
   ]
  },
  {
   "cell_type": "code",
   "execution_count": null,
   "metadata": {},
   "outputs": [],
   "source": [
    "show_image_mpl(sheet.img_bw)"
   ]
  },
  {
   "cell_type": "code",
   "execution_count": null,
   "metadata": {},
   "outputs": [],
   "source": [
    "for i, (x, y, w, h) in enumerate(sheet.regions[:10]):\n",
    "    print(\n",
    "        f\"Black Region {i + 1}: x={x}, y={y}, width={w}, height={h}, area={w*h/1000:.2f}k\"\n",
    "    )"
   ]
  },
  {
   "cell_type": "code",
   "execution_count": null,
   "metadata": {},
   "outputs": [],
   "source": [
    "annotated_image = draw_regions(sheet.img_orig, sheet.regions[:10])\n",
    "show_image_mpl(annotated_image)"
   ]
  },
  {
   "cell_type": "code",
   "execution_count": null,
   "metadata": {},
   "outputs": [],
   "source": [
    "for i, contour in enumerate(sheet.contours[:1]):\n",
    "    print(f\"Contour {i + 1}: {contour}\")"
   ]
  },
  {
   "cell_type": "markdown",
   "metadata": {},
   "source": [
    "## grab a chunk of image\n"
   ]
  },
  {
   "cell_type": "code",
   "execution_count": null,
   "metadata": {},
   "outputs": [],
   "source": [
    "region = sheet.regions[0]\n",
    "region"
   ]
  },
  {
   "cell_type": "code",
   "execution_count": null,
   "metadata": {},
   "outputs": [],
   "source": [
    "region_pad = pad_rect(region, 30, sheet.img_bw)\n",
    "region_pad"
   ]
  },
  {
   "cell_type": "code",
   "execution_count": null,
   "metadata": {},
   "outputs": [],
   "source": [
    "annotated_image = draw_regions(annotated_image, [region_pad])\n",
    "show_image_mpl(annotated_image)"
   ]
  },
  {
   "cell_type": "markdown",
   "metadata": {},
   "source": [
    "#### Use the Piece class\n"
   ]
  },
  {
   "cell_type": "code",
   "execution_count": null,
   "metadata": {},
   "outputs": [],
   "source": [
    "piece = sheet.pieces[0]"
   ]
  },
  {
   "cell_type": "code",
   "execution_count": null,
   "metadata": {},
   "outputs": [],
   "source": [
    "show_image_mpl(piece.img_bw)"
   ]
  },
  {
   "cell_type": "code",
   "execution_count": null,
   "metadata": {},
   "outputs": [],
   "source": [
    "show_image_mpl(piece.img_orig)"
   ]
  },
  {
   "cell_type": "markdown",
   "metadata": {},
   "source": [
    "### Find corners in the piece\n"
   ]
  },
  {
   "cell_type": "code",
   "execution_count": null,
   "metadata": {},
   "outputs": [],
   "source": [
    "from snap_fit.image.process import find_corners\n",
    "from snap_fit.image.utils import draw_corners"
   ]
  },
  {
   "cell_type": "code",
   "execution_count": null,
   "metadata": {},
   "outputs": [],
   "source": [
    "corners = find_corners(\n",
    "    piece.img_bw,\n",
    "    max_corners=10,\n",
    ")\n",
    "corners"
   ]
  },
  {
   "cell_type": "code",
   "execution_count": null,
   "metadata": {},
   "outputs": [],
   "source": [
    "img_corners = draw_corners(piece.img_orig, corners)\n",
    "show_image_mpl(img_corners)"
   ]
  },
  {
   "cell_type": "markdown",
   "metadata": {},
   "source": [
    "#### Use SIFT and SURF\n"
   ]
  },
  {
   "cell_type": "code",
   "execution_count": null,
   "metadata": {},
   "outputs": [],
   "source": [
    "# from snap_fit.image.process import find_surf_keypoints\n",
    "from snap_fit.image.process import find_sift_keypoints\n",
    "from snap_fit.image.utils import draw_keypoints"
   ]
  },
  {
   "cell_type": "code",
   "execution_count": null,
   "metadata": {},
   "outputs": [],
   "source": [
    "# keypoints, descriptors = find_surf_keypoints(piece.img_bw)\n",
    "keypoints, descriptors = find_sift_keypoints(piece.img_bw)"
   ]
  },
  {
   "cell_type": "code",
   "execution_count": null,
   "metadata": {},
   "outputs": [],
   "source": [
    "img_keypoints = draw_keypoints(piece.img_orig, keypoints)\n",
    "show_image_mpl(img_keypoints)"
   ]
  }
 ],
 "metadata": {
  "kernelspec": {
   "display_name": "snap-fit-RMFRmbgu-py3.11",
   "language": "python",
   "name": "python3"
  },
  "language_info": {
   "codemirror_mode": {
    "name": "ipython",
    "version": 3
   },
   "file_extension": ".py",
   "mimetype": "text/x-python",
   "name": "python",
   "nbconvert_exporter": "python",
   "pygments_lexer": "ipython3",
   "version": "3.11.10"
  }
 },
 "nbformat": 4,
 "nbformat_minor": 2
}
