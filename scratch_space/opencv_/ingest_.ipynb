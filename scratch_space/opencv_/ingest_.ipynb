{
 "cells": [
  {
   "cell_type": "markdown",
   "metadata": {},
   "source": [
    "# From photo to piece\n"
   ]
  },
  {
   "cell_type": "code",
   "execution_count": null,
   "metadata": {},
   "outputs": [],
   "source": [
    "%load_ext autoreload\n",
    "%autoreload 2"
   ]
  },
  {
   "cell_type": "code",
   "execution_count": null,
   "metadata": {},
   "outputs": [],
   "source": [
    "from snap_fit.config.snap_fit_config import get_snap_fit_paths\n",
    "from snap_fit.image.process import find_black_regions, find_contours\n",
    "from snap_fit.image.utils import (\n",
    "    display_image,\n",
    "    draw_black_regions,\n",
    "    load_image,\n",
    "    save_image,\n",
    "    show_image_mpl,\n",
    "    sort_rects,\n",
    ")"
   ]
  },
  {
   "cell_type": "code",
   "execution_count": null,
   "metadata": {},
   "outputs": [],
   "source": [
    "sf_paths = get_snap_fit_paths()\n",
    "data_fol = sf_paths.data_fol\n",
    "sample_fol = data_fol / \"sample\""
   ]
  },
  {
   "cell_type": "code",
   "execution_count": null,
   "metadata": {},
   "outputs": [],
   "source": [
    "# img_fn = \"PXL_20241130_105107220.jpg\"\n",
    "# img_fn = \"front_01.jpg\"\n",
    "img_fn = \"back_proc_02.jpg\"\n",
    "# img_fn = \"puzzle_pieces_01.jpeg\"\n",
    "img_fp = sample_fol / img_fn"
   ]
  },
  {
   "cell_type": "code",
   "execution_count": null,
   "metadata": {},
   "outputs": [],
   "source": [
    "# blah use the sample load script"
   ]
  },
  {
   "cell_type": "code",
   "execution_count": null,
   "metadata": {},
   "outputs": [],
   "source": [
    "original_image = load_image(img_fp)\n",
    "show_image_mpl(original_image)"
   ]
  },
  {
   "cell_type": "code",
   "execution_count": null,
   "metadata": {},
   "outputs": [],
   "source": [
    "black_regions = find_black_regions(original_image)\n",
    "black_regions = sort_rects(black_regions)\n",
    "for i, (x, y, w, h) in enumerate(black_regions[:10]):\n",
    "    print(f\"Black Region {i + 1}: x={x}, y={y}, width={w}, height={h}\")"
   ]
  },
  {
   "cell_type": "code",
   "execution_count": null,
   "metadata": {},
   "outputs": [],
   "source": [
    "annotated_image = draw_black_regions(original_image, black_regions[:10])\n",
    "show_image_mpl(annotated_image)"
   ]
  },
  {
   "cell_type": "code",
   "execution_count": null,
   "metadata": {},
   "outputs": [],
   "source": [
    "contours = find_contours(original_image)\n",
    "for i, contour in enumerate(contours[:1]):\n",
    "    print(f\"Contour {i + 1}: {contour}\")"
   ]
  }
 ],
 "metadata": {
  "kernelspec": {
   "display_name": "snap-fit-RMFRmbgu-py3.11",
   "language": "python",
   "name": "python3"
  },
  "language_info": {
   "codemirror_mode": {
    "name": "ipython",
    "version": 3
   },
   "file_extension": ".py",
   "mimetype": "text/x-python",
   "name": "python",
   "nbconvert_exporter": "python",
   "pygments_lexer": "ipython3",
   "version": "3.11.10"
  }
 },
 "nbformat": 4,
 "nbformat_minor": 2
}
