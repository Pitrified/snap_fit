{
 "cells": [
  {
   "cell_type": "markdown",
   "metadata": {},
   "source": [
    "# From photo to piece\n"
   ]
  },
  {
   "cell_type": "code",
   "execution_count": null,
   "metadata": {},
   "outputs": [],
   "source": [
    "%load_ext autoreload\n",
    "%autoreload 2"
   ]
  },
  {
   "cell_type": "code",
   "execution_count": null,
   "metadata": {},
   "outputs": [],
   "source": [
    "from snap_fit.config.snap_fit_config import get_snap_fit_paths\n",
    "from snap_fit.image.process import (\n",
    "    find_contours,\n",
    "    find_corners,\n",
    "    find_sift_keypoints,\n",
    "    find_white_regions,\n",
    ")\n",
    "from snap_fit.image.utils import (\n",
    "    cut_rect_from_image,\n",
    "    display_image,\n",
    "    draw_contour,\n",
    "    draw_contours,\n",
    "    draw_corners,\n",
    "    draw_keypoints,\n",
    "    draw_regions,\n",
    "    flip_colors_bw,\n",
    "    load_image,\n",
    "    pad_rect,\n",
    "    save_image,\n",
    "    show_image_mpl,\n",
    "    sort_rects,\n",
    "    translate_contour,\n",
    ")\n",
    "from snap_fit.puzzle.sheet import Sheet"
   ]
  },
  {
   "cell_type": "code",
   "execution_count": null,
   "metadata": {},
   "outputs": [],
   "source": [
    "sf_paths = get_snap_fit_paths()\n",
    "data_fol = sf_paths.data_fol\n",
    "sample_fol = data_fol / \"sample\""
   ]
  },
  {
   "cell_type": "code",
   "execution_count": null,
   "metadata": {},
   "outputs": [],
   "source": [
    "# img_fn = \"PXL_20241130_105107220.jpg\"\n",
    "# img_fn = \"front_01.jpg\"\n",
    "# img_fn = \"back_proc_02.jpg\"\n",
    "img_fn = \"back_03.jpg\"\n",
    "# img_fn = \"back_04.jpg\"\n",
    "# img_fn = \"puzzle_pieces_01.jpeg\"\n",
    "img_fp = sample_fol / img_fn\n",
    "img_fp"
   ]
  },
  {
   "cell_type": "code",
   "execution_count": null,
   "metadata": {},
   "outputs": [],
   "source": [
    "sheet = Sheet(img_fp)"
   ]
  },
  {
   "cell_type": "code",
   "execution_count": null,
   "metadata": {},
   "outputs": [],
   "source": [
    "show_image_mpl(sheet.img_orig)"
   ]
  },
  {
   "cell_type": "code",
   "execution_count": null,
   "metadata": {},
   "outputs": [],
   "source": [
    "show_image_mpl(sheet.img_bw)"
   ]
  },
  {
   "cell_type": "code",
   "execution_count": null,
   "metadata": {},
   "outputs": [],
   "source": [
    "for i, (x, y, w, h) in enumerate(sheet.regions[:10]):\n",
    "    print(\n",
    "        f\"Black Region {i + 1}: x={x}, y={y}, width={w}, height={h}, area={w*h/1000:.2f}k\"\n",
    "    )"
   ]
  },
  {
   "cell_type": "code",
   "execution_count": null,
   "metadata": {},
   "outputs": [],
   "source": [
    "annotated_image = draw_regions(sheet.img_orig, sheet.regions[:10])\n",
    "show_image_mpl(annotated_image)"
   ]
  },
  {
   "cell_type": "code",
   "execution_count": null,
   "metadata": {},
   "outputs": [],
   "source": [
    "for i, contour in enumerate(sheet.contours[:1]):\n",
    "    print(f\"Contour {i + 1}: {contour}\")"
   ]
  },
  {
   "cell_type": "code",
   "execution_count": null,
   "metadata": {},
   "outputs": [],
   "source": [
    "contour_image = draw_contours(sheet.img_orig, sheet.contours)\n",
    "\n",
    "show_image_mpl(contour_image)"
   ]
  },
  {
   "cell_type": "markdown",
   "metadata": {},
   "source": [
    "## grab a chunk of image\n"
   ]
  },
  {
   "cell_type": "code",
   "execution_count": null,
   "metadata": {},
   "outputs": [],
   "source": [
    "region = sheet.regions[0]\n",
    "region"
   ]
  },
  {
   "cell_type": "code",
   "execution_count": null,
   "metadata": {},
   "outputs": [],
   "source": [
    "region_pad = pad_rect(region, 30, sheet.img_bw)\n",
    "region_pad"
   ]
  },
  {
   "cell_type": "code",
   "execution_count": null,
   "metadata": {},
   "outputs": [],
   "source": [
    "annotated_image = draw_regions(annotated_image, [region_pad])\n",
    "show_image_mpl(annotated_image)"
   ]
  },
  {
   "cell_type": "markdown",
   "metadata": {},
   "source": [
    "#### Use the Piece class\n"
   ]
  },
  {
   "cell_type": "code",
   "execution_count": null,
   "metadata": {},
   "outputs": [],
   "source": [
    "piece = sheet.pieces[3]"
   ]
  },
  {
   "cell_type": "code",
   "execution_count": null,
   "metadata": {},
   "outputs": [],
   "source": [
    "show_image_mpl(piece.img_bw)"
   ]
  },
  {
   "cell_type": "code",
   "execution_count": null,
   "metadata": {},
   "outputs": [],
   "source": [
    "# show_image_mpl(piece.img_orig)\n",
    "show_image_mpl(piece.img_gray)"
   ]
  },
  {
   "cell_type": "markdown",
   "metadata": {},
   "source": [
    "### Find corners in the piece\n"
   ]
  },
  {
   "cell_type": "code",
   "execution_count": null,
   "metadata": {},
   "outputs": [],
   "source": [
    "corners = find_corners(\n",
    "    piece.img_gray,\n",
    "    max_corners=30,\n",
    "    quality_level=0.1,\n",
    "    min_distance=40,\n",
    ")\n",
    "corners"
   ]
  },
  {
   "cell_type": "code",
   "execution_count": null,
   "metadata": {},
   "outputs": [],
   "source": [
    "img_corners = draw_corners(piece.img_orig, corners)\n",
    "show_image_mpl(img_corners)"
   ]
  },
  {
   "cell_type": "markdown",
   "metadata": {},
   "source": [
    "#### Use SIFT and SURF\n"
   ]
  },
  {
   "cell_type": "code",
   "execution_count": null,
   "metadata": {},
   "outputs": [],
   "source": [
    "# from snap_fit.image.process import find_surf_keypoints"
   ]
  },
  {
   "cell_type": "code",
   "execution_count": null,
   "metadata": {},
   "outputs": [],
   "source": [
    "# keypoints, descriptors = find_surf_keypoints(piece.img_bw)\n",
    "# keypoints, descriptors = find_sift_keypoints(piece.img_bw)\n",
    "keypoints, descriptors = find_sift_keypoints(piece.img_gray)"
   ]
  },
  {
   "cell_type": "code",
   "execution_count": null,
   "metadata": {},
   "outputs": [],
   "source": [
    "img_keypoints = draw_keypoints(piece.img_orig, keypoints)\n",
    "show_image_mpl(img_keypoints)"
   ]
  },
  {
   "cell_type": "markdown",
   "metadata": {},
   "source": [
    "## use contours\n"
   ]
  },
  {
   "cell_type": "code",
   "execution_count": null,
   "metadata": {},
   "outputs": [],
   "source": [
    "# piece = sheet.pieces[0]"
   ]
  },
  {
   "cell_type": "code",
   "execution_count": null,
   "metadata": {},
   "outputs": [],
   "source": [
    "contour = piece.contour\n",
    "# contour"
   ]
  },
  {
   "cell_type": "code",
   "execution_count": null,
   "metadata": {},
   "outputs": [],
   "source": [
    "x = -piece.region_pad[0]\n",
    "y = -piece.region_pad[1]\n",
    "print(f\"Translating contour by {piece.region=} {x=}, {y=}\")\n",
    "\n",
    "c1 = translate_contour(contour, x, y)\n",
    "# c1"
   ]
  },
  {
   "cell_type": "code",
   "execution_count": null,
   "metadata": {},
   "outputs": [],
   "source": [
    "# draw the contour on the image\n",
    "\n",
    "img_contour = draw_contour(piece.img_orig, c1)\n",
    "# img_contour = draw_contour(piece.img_bw, c1, color=127)\n",
    "show_image_mpl(img_contour)"
   ]
  },
  {
   "cell_type": "code",
   "execution_count": null,
   "metadata": {},
   "outputs": [],
   "source": [
    "# draw the contour on the image\n",
    "\n",
    "img_contour = draw_contour(piece.img_orig, piece.contour_loc)\n",
    "# img_contour = draw_contour(piece.img_bw, c1, color=127)\n",
    "show_image_mpl(img_contour)"
   ]
  },
  {
   "cell_type": "markdown",
   "metadata": {},
   "source": [
    "### Derivative of a contour\n"
   ]
  },
  {
   "cell_type": "code",
   "execution_count": null,
   "metadata": {},
   "outputs": [],
   "source": [
    "piece = sheet.pieces[0]"
   ]
  },
  {
   "cell_type": "code",
   "execution_count": null,
   "metadata": {},
   "outputs": [],
   "source": [
    "cl = piece.contour_loc"
   ]
  },
  {
   "cell_type": "code",
   "execution_count": null,
   "metadata": {},
   "outputs": [],
   "source": [
    "cl.shape"
   ]
  },
  {
   "cell_type": "code",
   "execution_count": null,
   "metadata": {},
   "outputs": [],
   "source": [
    "cl[:10, 0]"
   ]
  },
  {
   "cell_type": "code",
   "execution_count": null,
   "metadata": {},
   "outputs": [],
   "source": [
    "cl[-10:, 0]"
   ]
  },
  {
   "cell_type": "code",
   "execution_count": null,
   "metadata": {},
   "outputs": [],
   "source": [
    "from snap_fit.image.contour import Contour\n",
    "\n",
    "\n",
    "cc = Contour(cl)\n",
    "cc.derive(step=5)\n",
    "print(cc.derivative.shape)\n",
    "cc.derivative[:, 0]"
   ]
  },
  {
   "cell_type": "code",
   "execution_count": null,
   "metadata": {},
   "outputs": [],
   "source": [
    "# cl[3][0]\n",
    "# cc.derivative[3][0]"
   ]
  },
  {
   "cell_type": "code",
   "execution_count": null,
   "metadata": {},
   "outputs": [],
   "source": [
    "from snap_fit.image.utils import draw_contour_derivative\n",
    "\n",
    "\n",
    "cont_d_image = draw_contour_derivative(\n",
    "    piece.img_orig,\n",
    "    cl,\n",
    "    cc.derivative,\n",
    "    skip=1,\n",
    "    arrow_length=20,\n",
    ")\n",
    "show_image_mpl(cont_d_image)"
   ]
  },
  {
   "cell_type": "code",
   "execution_count": null,
   "metadata": {},
   "outputs": [],
   "source": [
    "# compute the orientation of the gradient\n",
    "\n",
    "d = cc.derivative\n",
    "d[:, 0]"
   ]
  },
  {
   "cell_type": "code",
   "execution_count": null,
   "metadata": {},
   "outputs": [],
   "source": [
    "import numpy as np\n",
    "\n",
    "\n",
    "ori = np.arctan2(d[:, 0, 1], d[:, 0, 0])\n",
    "# the orientation can be between -pi and pi\n",
    "# we can take the modulo to get the orientation between 0 and 2*pi\n",
    "ori = np.mod(ori, 2 * np.pi)\n",
    "ori[:10]"
   ]
  },
  {
   "cell_type": "code",
   "execution_count": null,
   "metadata": {},
   "outputs": [],
   "source": [
    "ori_unwrapped = np.unwrap(ori)\n",
    "print(ori_unwrapped[:10])\n",
    "print(ori_unwrapped[-10:])"
   ]
  },
  {
   "cell_type": "code",
   "execution_count": null,
   "metadata": {},
   "outputs": [],
   "source": [
    "# compute the magnitude of the gradient\n",
    "mag = np.linalg.norm(d, axis=2)[:, 0]\n",
    "mag[:10]"
   ]
  },
  {
   "cell_type": "code",
   "execution_count": null,
   "metadata": {},
   "outputs": [],
   "source": [
    "def derive(\n",
    "    data: np.ndarray,\n",
    "    step: int = 5,\n",
    ") -> np.ndarray:\n",
    "    \"\"\"Derives the contour to get the orientation and curvature.\n",
    "\n",
    "    For each point on the contour, the derivative is calculated using the central difference method.\n",
    "    The step size determines the distance between the points used for the derivative.\n",
    "\n",
    "    Args:\n",
    "        step (int): The step size for the derivative (default is 5).\n",
    "    \"\"\"\n",
    "    # as the contour is a closed curve, we can calculate the derivative by\n",
    "    # wrapping around the end points to the start points\n",
    "    c_wrap = np.hstack((data, data[:step]))\n",
    "    # also wrap around the start points to the end points\n",
    "    c_wrap = np.hstack((data[-step:], c_wrap))\n",
    "    print(c_wrap[:10])\n",
    "    print(c_wrap[-10:])\n",
    "\n",
    "    # unwrap the angles to avoid the discontinuity at 2*pi\n",
    "    c_wrap_unwrap = np.unwrap(c_wrap)\n",
    "\n",
    "    # Calculate the derivative of the contour\n",
    "    d_wrap = np.gradient(c_wrap_unwrap, step, axis=0)\n",
    "\n",
    "    # Calculate the derivative of the contour\n",
    "    # d_wrap = np.diff(c_wrap_unwrap, axis=0)\n",
    "\n",
    "    # d_wrap = data[step:] + 2 * np.pi - data[:-step]\n",
    "    # print(d_wrap[:10])\n",
    "    # d_wrap = np.mod(d_wrap, 2 * np.pi)\n",
    "    # print(d_wrap[:10])\n",
    "\n",
    "    # Remove the wrapped points\n",
    "    d = d_wrap[step:-step]\n",
    "    return d"
   ]
  },
  {
   "cell_type": "code",
   "execution_count": null,
   "metadata": {},
   "outputs": [],
   "source": [
    "def smooth(\n",
    "    data: np.ndarray, window_len: int = 11, window: str = \"hanning\"\n",
    ") -> np.ndarray:\n",
    "    \"\"\"Smooth the data using a window with requested size.\n",
    "\n",
    "    Args:\n",
    "        data (np.ndarray): The data to be smoothed.\n",
    "        window_len (int): The size of the window (default is 11).\n",
    "        window (str): The type of window from 'flat', 'hanning', 'hamming', 'bartlett', 'blackman' (default is 'hanning').\n",
    "\n",
    "    Returns:\n",
    "        np.ndarray: The smoothed data.\n",
    "    \"\"\"\n",
    "    if data.ndim != 1:\n",
    "        raise ValueError(\"smooth only accepts 1 dimension arrays.\")\n",
    "\n",
    "    if data.size < window_len:\n",
    "        raise ValueError(\"Input vector needs to be bigger than window size.\")\n",
    "\n",
    "    if window_len < 3:\n",
    "        return data\n",
    "\n",
    "    if not window in [\"flat\", \"hanning\", \"hamming\", \"bartlett\", \"blackman\"]:\n",
    "        raise ValueError(\n",
    "            f\"Window is not one of 'flat', 'hanning', 'hamming', 'bartlett', 'blackman'\"\n",
    "        )\n",
    "\n",
    "    # s = np.r_[data[window_len - 1 : 0 : -1], data, data[-2 : -window_len - 1 : -1]]\n",
    "    s = np.r_[data[window_len - 1 : 0 : -1], data, data[0 : -window_len - 1 : -1]]\n",
    "\n",
    "    # # as the contour is a closed curve, we can wrap around\n",
    "    # s = np.hstack((data, data[: window_len + 1]))\n",
    "    # s = np.hstack((data[-(window_len + 1) :], s))\n",
    "\n",
    "    if window == \"flat\":  # moving average\n",
    "        w = np.ones(window_len, \"d\")\n",
    "    else:\n",
    "        w = eval(f\"np.{window}({window_len})\")\n",
    "\n",
    "    y = np.convolve(w / w.sum(), s, mode=\"valid\")\n",
    "    print(f\"{data.shape=}, {s.shape=} {y.shape=}\")\n",
    "    return y  # [window_len + 2 : -(window_len + 0)]"
   ]
  },
  {
   "cell_type": "code",
   "execution_count": null,
   "metadata": {},
   "outputs": [],
   "source": [
    "ori_unwrapped_smooth = smooth(ori_unwrapped, window_len=5, window=\"flat\")\n",
    "# ori_unwrapped_smooth = smooth(ori_unwrapped, window_len=5, window=\"hanning\")\n",
    "print(ori_unwrapped_smooth.shape)\n",
    "print(ori_unwrapped_smooth[:10])\n",
    "print(ori_unwrapped_smooth[-10:])"
   ]
  },
  {
   "cell_type": "code",
   "execution_count": null,
   "metadata": {},
   "outputs": [],
   "source": [
    "# ori_d = derive(ori, step=5)\n",
    "ori_d = derive(ori_unwrapped_smooth, step=5)\n",
    "# ori_d = np.mod(ori_d, np.pi)\n",
    "# ori_d[:10]\n",
    "ori_d[115:120]"
   ]
  },
  {
   "cell_type": "code",
   "execution_count": null,
   "metadata": {},
   "outputs": [],
   "source": [
    "ori[115:120]"
   ]
  },
  {
   "cell_type": "code",
   "execution_count": null,
   "metadata": {},
   "outputs": [],
   "source": [
    "ori[115:120] - 2 * np.pi"
   ]
  },
  {
   "cell_type": "code",
   "execution_count": null,
   "metadata": {},
   "outputs": [],
   "source": [
    "# plot the orientation and magnitude of the gradient\n",
    "from matplotlib import pyplot as plt\n",
    "\n",
    "fig, ax = plt.subplots(4, 1, figsize=(12, 12))\n",
    "min_idx = 326\n",
    "max_idx = 330\n",
    "# also add points for the derivative\n",
    "ax[0].scatter(range(max_idx - min_idx), ori[min_idx:max_idx], color=\"red\")\n",
    "ax[0].plot(ori[min_idx:max_idx])\n",
    "ax[0].set_title(\"Orientation of the Gradient\")\n",
    "ax[1].plot(ori_unwrapped[min_idx:max_idx])\n",
    "ax[1].set_title(\"Unwrapped Orientation of the Gradient\")\n",
    "ax[2].plot(ori_d[min_idx:max_idx])\n",
    "ax[2].set_title(\"Derivative of the Orientation\")\n",
    "ax[3].plot(mag[min_idx:max_idx])\n",
    "ax[3].set_title(\"Magnitude of the Gradient\")\n",
    "plt.show()\n",
    "\n",
    "print(ori[min_idx:max_idx])\n",
    "print(ori_d[min_idx:max_idx])"
   ]
  },
  {
   "cell_type": "code",
   "execution_count": null,
   "metadata": {},
   "outputs": [],
   "source": [
    "# plot the orientation and magnitude of the gradient\n",
    "from matplotlib import pyplot as plt\n",
    "\n",
    "fig, ax = plt.subplots(4, 1, figsize=(12, 13))\n",
    "# also add points for the derivative\n",
    "# ax[0].plot(ori)\n",
    "# ax[0].set_title(\"Orientation of the Gradient\")\n",
    "ax[0].plot(ori_unwrapped)\n",
    "ax[0].set_title(\"Unwrapped Orientation of the Gradient\")\n",
    "ax[0].grid()\n",
    "ax[1].plot(ori_unwrapped_smooth / np.pi * 180)\n",
    "ax[1].set_title(\"Smoothed Unwrapped Orientation of the Gradient\")\n",
    "ax[1].grid()\n",
    "ax[2].plot(ori_d)\n",
    "ax[2].set_title(\"Derivative of the Orientation\")\n",
    "ax[2].grid()\n",
    "ax[3].plot(mag)\n",
    "ax[3].set_title(\"Magnitude of the Gradient\")\n",
    "plt.show()"
   ]
  },
  {
   "cell_type": "markdown",
   "metadata": {},
   "source": [
    "### incredibly naive approach\n"
   ]
  },
  {
   "cell_type": "code",
   "execution_count": null,
   "metadata": {},
   "outputs": [],
   "source": [
    "piece = sheet.pieces[5]"
   ]
  },
  {
   "cell_type": "code",
   "execution_count": null,
   "metadata": {},
   "outputs": [],
   "source": [
    "shap = piece.img_bw.shape\n",
    "print(shap)"
   ]
  },
  {
   "cell_type": "code",
   "execution_count": null,
   "metadata": {},
   "outputs": [],
   "source": [
    "piece.img_bw.dtype"
   ]
  },
  {
   "cell_type": "code",
   "execution_count": null,
   "metadata": {},
   "outputs": [],
   "source": [
    "# import cv2\n",
    "\n",
    "# from snap_fit.image.utils import draw_line\n",
    "\n",
    "\n",
    "# diag_mask = np.zeros(shap, dtype=np.uint8)\n",
    "# # thick = 150\n",
    "# thick = int(sum(shap) / 2 / 4 * 1.05)\n",
    "# print(thick)\n",
    "# # diag_mask = cv2.line(diag_mask, (0, 0), (shap[1], shap[0]), 255, thick)\n",
    "# # diag_mask = cv2.line(diag_mask, (0, shap[0]), (shap[1], 0), 255, thick)\n",
    "# # show_image_mpl(diag_mask)\n",
    "# diag_mask = draw_line(diag_mask, (0, 0), (shap[1], shap[0]), 255, thick)\n",
    "# diag_mask = draw_line(diag_mask, (0, shap[0]), (shap[1], 0), 255, thick)"
   ]
  },
  {
   "cell_type": "code",
   "execution_count": null,
   "metadata": {},
   "outputs": [],
   "source": [
    "img_crossed = piece.img_bw // 2 + piece.cross_mask // 2\n",
    "show_image_mpl(img_crossed)"
   ]
  },
  {
   "cell_type": "code",
   "execution_count": null,
   "metadata": {},
   "outputs": [],
   "source": [
    "# img_crossmasked = cv2.bitwise_and(piece.img_bw, diag_mask)\n",
    "show_image_mpl(piece.img_crossmasked)"
   ]
  },
  {
   "cell_type": "code",
   "execution_count": null,
   "metadata": {},
   "outputs": [],
   "source": [
    "# # sweep the image with a diagonal line starting from the corner\n",
    "# # and stop when the line hits the crossmasked image\n",
    "# # this will give the corner of the piece\n",
    "\n",
    "\n",
    "# def find_corner(\n",
    "#     img_crossmasked: np.ndarray,\n",
    "#     which_corner: str,\n",
    "# ) -> tuple:\n",
    "#     \"\"\"Find the corner of the piece by sweeping the image.\n",
    "\n",
    "#     The function sweeps the image with a line starting from the corner,\n",
    "#     orthogonal to the diagonal of the image, and stops when the line hits the\n",
    "#     crossmasked image.\n",
    "#     The corner is then the point where the line hits the crossmasked image.\n",
    "\n",
    "#     Args:\n",
    "#         img_crossmasked (np.ndarray): The image with the diagonal line.\n",
    "#         which_corner (str): The corner to find, one of\n",
    "#             \"top_left\", \"top_right\", \"bottom_left\", \"bottom_right\".\n",
    "\n",
    "#     Returns:\n",
    "#         tuple: The coordinates of the corner, as a tuple (x, y).\n",
    "#     \"\"\"\n",
    "#     shap = img_crossmasked.shape\n",
    "#     for i in range(min(shap)):\n",
    "#         for j in range(i):\n",
    "#             match which_corner:\n",
    "#                 case \"top_left\":\n",
    "#                     x = j\n",
    "#                     y = i - j\n",
    "#                 case \"bottom_left\":\n",
    "#                     x = i - j\n",
    "#                     y = shap[0] - j - 1\n",
    "#                 case \"top_right\":\n",
    "#                     x = shap[1] - i + j\n",
    "#                     y = j\n",
    "#                 case \"bottom_right\":\n",
    "#                     x = shap[1] - j - 1\n",
    "#                     y = shap[0] - i + j\n",
    "#                 case _:\n",
    "#                     raise ValueError(f\"Invalid corner {which_corner=}\")\n",
    "#             if img_crossmasked[y, x] > 0:\n",
    "#                 return (x, y)\n",
    "#     return (0, 0)\n",
    "\n",
    "\n",
    "# # corner = find_corner(img_crossmasked, \"top_left\")\n",
    "# # corners = [corner]\n",
    "\n",
    "# corners = []\n",
    "# for corner in [\n",
    "#     \"top_left\",\n",
    "#     \"top_right\",\n",
    "#     \"bottom_left\",\n",
    "#     \"bottom_right\",\n",
    "# ]:\n",
    "#     corners.append(find_corner(img_crossmasked, corner))\n",
    "# corners"
   ]
  },
  {
   "cell_type": "code",
   "execution_count": null,
   "metadata": {},
   "outputs": [],
   "source": [
    "# img_corners = draw_corners(piece.img_orig, [corner])\n",
    "img_corners = draw_corners(\n",
    "    # piece.img_orig,\n",
    "    img_crossed,\n",
    "    [\n",
    "        # (10, 10),\n",
    "        # (20, 40),\n",
    "        # (shap[1] - 10, shap[0] - 10),\n",
    "        # (shap[1] - 10, 10),\n",
    "        # (10, shap[0] - 10),\n",
    "        # (min(shap) - 10, min(shap) - 10),\n",
    "        *piece.corners.values(),\n",
    "    ],\n",
    "    color=190,\n",
    ")\n",
    "show_image_mpl(img_corners)"
   ]
  },
  {
   "cell_type": "code",
   "execution_count": null,
   "metadata": {},
   "outputs": [],
   "source": []
  }
 ],
 "metadata": {
  "kernelspec": {
   "display_name": "snap-fit-RMFRmbgu-py3.11",
   "language": "python",
   "name": "python3"
  },
  "language_info": {
   "codemirror_mode": {
    "name": "ipython",
    "version": 3
   },
   "file_extension": ".py",
   "mimetype": "text/x-python",
   "name": "python",
   "nbconvert_exporter": "python",
   "pygments_lexer": "ipython3",
   "version": "3.11.10"
  }
 },
 "nbformat": 4,
 "nbformat_minor": 2
}
